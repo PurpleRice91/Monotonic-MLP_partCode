{
 "cells": [
  {
   "cell_type": "code",
   "execution_count": 1,
   "metadata": {},
   "outputs": [
    {
     "name": "stderr",
     "output_type": "stream",
     "text": [
      "c:\\Users\\bill\\anaconda3\\lib\\site-packages\\numpy\\_distributor_init.py:30: UserWarning: loaded more than 1 DLL from .libs:\n",
      "c:\\Users\\bill\\anaconda3\\lib\\site-packages\\numpy\\.libs\\libopenblas.EL2C6PLE4ZYW3ECEVIV3OXXGRN2NRFM2.gfortran-win_amd64.dll\n",
      "c:\\Users\\bill\\anaconda3\\lib\\site-packages\\numpy\\.libs\\libopenblas.XWYDX2IKJW2NMTWSFYNGFUWKQU3LYTCZ.gfortran-win_amd64.dll\n",
      "  warnings.warn(\"loaded more than 1 DLL from .libs:\"\n"
     ]
    }
   ],
   "source": [
    "import pandas as pd\n",
    "import numpy as np\n",
    "import matplotlib.pyplot as plt\n",
    "%matplotlib inline\n",
    "\n",
    "import re\n",
    "import math\n",
    "import nltk\n",
    "\n",
    "# Importing required libraries\n",
    "from sklearn.model_selection import train_test_split\n",
    "from nltk.corpus import stopwords\n",
    "\n",
    "# keras\n",
    "from keras.preprocessing.text import Tokenizer\n",
    "from keras.preprocessing.sequence import pad_sequences\n",
    "from keras.utils import to_categorical\n",
    "\n",
    "from keras.layers import Embedding\n",
    "\n",
    "from keras.layers import Dense, Input, GlobalMaxPooling1D\n",
    "from keras.layers import Conv1D, MaxPooling1D, Embedding\n",
    "from keras.models import Model\n",
    "from keras.layers import Input, Dense, Embedding, Conv2D, MaxPooling2D, Dropout, Dropout,concatenate\n",
    "from keras.layers.core import Reshape, Flatten\n",
    "from keras.callbacks import EarlyStopping\n",
    "from keras.optimizers import SGD, RMSprop, Adagrad, Adadelta, Adam, Adamax, Nadam\n",
    "from keras.models import Model\n",
    "from keras import regularizers\n"
   ]
  },
  {
   "cell_type": "code",
   "execution_count": 2,
   "metadata": {},
   "outputs": [],
   "source": [
    "# list讀取\n",
    "# tfidf\n",
    "import numpy as np\n",
    "a=np.load('np_monofakewords_tfidf.npy',allow_pickle=True)\n",
    "a=a.tolist()\n",
    "monofakewords_tfidf_f=list(a)\n",
    "\n",
    "a=np.load('np_nmfakewords_tfidf.npy',allow_pickle=True)\n",
    "a=a.tolist()\n",
    "nmfakewords_tfidf_f=list(a)\n",
    "\n",
    "a=np.load('np_antifakewords_tfidf.npy',allow_pickle=True)\n",
    "a=a.tolist()\n",
    "antifakewords_tfidf_f=list(a)\n",
    "\n",
    "#\n",
    "a=np.load('np_monofakewords_truereview_tfidf.npy',allow_pickle=True)\n",
    "a=a.tolist()\n",
    "monofakewords_tfidf_t=list(a)\n",
    "\n",
    "a=np.load('np_nmfakewords_truereview_tfidf.npy',allow_pickle=True)\n",
    "a=a.tolist()\n",
    "nmfakewords_tfidf_t=list(a)\n",
    "\n",
    "a=np.load('np_antifakewords_truereview_tfidf.npy',allow_pickle=True)\n",
    "a=a.tolist()\n",
    "antifakewords_tfidf_t=list(a)\n",
    "del a"
   ]
  },
  {
   "cell_type": "code",
   "execution_count": 3,
   "metadata": {},
   "outputs": [
    {
     "name": "stdout",
     "output_type": "stream",
     "text": [
      "真評論篇數:  58642\n",
      "bal假評論篇數:  58373\n",
      "mono評論篇數:  117015\n",
      "anti評論篇數:  117015\n",
      "nm評論篇數:  117015\n"
     ]
    }
   ],
   "source": [
    "# 資料集平衡 # TFIDF\n",
    "bal_monofakewords_tfidf_f = monofakewords_tfidf_f+monofakewords_tfidf_f+monofakewords_tfidf_f+monofakewords_tfidf_f+monofakewords_tfidf_f+monofakewords_tfidf_f+monofakewords_tfidf_f\n",
    "bal_antifakewords_tfidf_f = antifakewords_tfidf_f+antifakewords_tfidf_f+antifakewords_tfidf_f+antifakewords_tfidf_f+antifakewords_tfidf_f+antifakewords_tfidf_f+antifakewords_tfidf_f\n",
    "bal_nmfakewords_tfidf_f = nmfakewords_tfidf_f+nmfakewords_tfidf_f+nmfakewords_tfidf_f+nmfakewords_tfidf_f+nmfakewords_tfidf_f+nmfakewords_tfidf_f+nmfakewords_tfidf_f\n",
    "print(\"真評論篇數: \", len(monofakewords_tfidf_t))\n",
    "print(\"bal假評論篇數: \", len(bal_monofakewords_tfidf_f))\n",
    "# bal = balanced\n",
    "\n",
    "# concate list 分成 mono 和 non mono\n",
    "dataset_mono = bal_monofakewords_tfidf_f + monofakewords_tfidf_t\n",
    "dataset_anti = bal_antifakewords_tfidf_f + antifakewords_tfidf_t\n",
    "dataset_nm = bal_nmfakewords_tfidf_f + nmfakewords_tfidf_t\n",
    "\n",
    "print(\"mono評論篇數: \", len(dataset_mono))\n",
    "print(\"anti評論篇數: \", len(dataset_anti))\n",
    "print(\"nm評論篇數: \", len(dataset_nm))\n",
    "\n",
    "# 轉為標準矩陣 用以後續分割\n",
    "dataset_mono = np.array(dataset_mono)\n",
    "dataset_anti = np.array(dataset_anti)\n",
    "dataset_nm = np.array(dataset_nm)"
   ]
  },
  {
   "cell_type": "code",
   "execution_count": 4,
   "metadata": {},
   "outputs": [
    {
     "name": "stdout",
     "output_type": "stream",
     "text": [
      "(117015, 330)\n",
      "(117015, 375)\n",
      "(117015, 705)\n",
      "(117015, 1295)\n"
     ]
    }
   ],
   "source": [
    "# Visualize training history\n",
    "from keras.models import Sequential\n",
    "from keras.layers import Dense\n",
    "import matplotlib.pyplot as plt\n",
    "import numpy\n",
    "# fix random seed for reproducibility\n",
    "seed = 7\n",
    "numpy.random.seed(seed)\n",
    "\n",
    "# load pima indians dataset\n",
    "# dataset_mono -> 3 feature + 1 flagged\n",
    "# dataset_nm -> 27 feature + 1 flagged\n",
    "\n",
    "# 先進行shuffle 再切割\n",
    "#np.random.shuffle(dataset_mono)\n",
    "#np.random.shuffle(dataset_nm)\n",
    "'''\n",
    "indices_mono = np.arange(dataset_mono.shape[0])\n",
    "indices_nm = np.arange(dataset_nm.shape[0])\n",
    "np.random.shuffle(indices_mono)\n",
    "np.random.shuffle(indices_nm)\n",
    "dataset_mono = dataset_mono[indices_mono]\n",
    "dataset_nm = dataset_nm[indices_nm]\n",
    "'''\n",
    "# split into input (X) and output (Y) variables\n",
    "X_mono = dataset_mono[:,0:-1]\n",
    "Y_mono = dataset_mono[:,-1] # Y_mono 與 Y_anti 相等\n",
    "X_anti = dataset_anti[:,0:-1]\n",
    "Y_anti = dataset_anti[:,-1]\n",
    "X_nm = dataset_nm[:,0:-1]\n",
    "Y_nm = dataset_nm[:,-1]\n",
    "\n",
    "X_mono = np.array(X_mono)\n",
    "X_anti = np.array(X_anti)\n",
    "X_nm = np.array(X_nm)\n",
    "Y_mono = np.array(Y_mono)\n",
    "Y_anti = np.array(Y_anti)\n",
    "Y_nm = np.array(Y_nm)\n",
    "X_monoanti = np.concatenate([X_mono, X_anti], axis=1)\n",
    "print(X_mono.shape)\n",
    "print(X_anti.shape)\n",
    "print(X_monoanti.shape)\n",
    "print(X_nm.shape)"
   ]
  },
  {
   "attachments": {},
   "cell_type": "markdown",
   "metadata": {},
   "source": [
    "## Model"
   ]
  },
  {
   "cell_type": "code",
   "execution_count": 5,
   "metadata": {},
   "outputs": [],
   "source": [
    "# Multiple Inputs\n",
    "from keras.utils import plot_model\n",
    "from keras.models import Model\n",
    "from keras.layers import Input\n",
    "from keras.layers import Dense\n",
    "from keras.layers import Flatten\n",
    "from keras.layers.convolutional import Conv2D\n",
    "from keras.layers.pooling import MaxPooling2D\n",
    "from keras.layers import BatchNormalization\n",
    "from keras.layers.merge import concatenate\n",
    "from keras.layers import Add\n",
    "from CustomConstraints import Custom_kernelinit\n",
    "import tensorflow as tf\n",
    "tf.compat.v1.enable_eager_execution()\n",
    "\n",
    "# 500 mono 93 nm 407\n",
    "# 200 44 156\n",
    "# 100 "
   ]
  },
  {
   "cell_type": "code",
   "execution_count": 6,
   "metadata": {},
   "outputs": [],
   "source": [
    "# Compile model\n",
    "from CustomOPt import Custom\n",
    "import tensorflow.keras as keras\n",
    "opt = Custom(lr=0.001, beta_1=0.5, beta_2=0.999)\n",
    "\n",
    "input_shape_monoanti = X_monoanti.shape[1]\n",
    "input_shape_nm = X_nm.shape[1]\n",
    "\n",
    "# first input model\n",
    "visible1 = Input(shape=(input_shape_monoanti,))\n",
    "#dense_m1 = Dense(1024, activation='sigmoid', kernel_constraint=keras.constraints.MinMaxNorm(min_value=0.01, max_value=1.0, rate=1.0, axis=0))(visible1)\n",
    "dense_m1 = Dense(1024, activation='sigmoid', kernel_constraint=Custom_kernelinit(min_value=0.01, max_value=1.0, rate=1.0, axis=0))(visible1)\n",
    "dense_m1 = Dropout(0.2)(dense_m1)\n",
    "dense_m1 = BatchNormalization()(dense_m1)\n",
    "\n",
    "dense_m1 = Dense(512, activation='sigmoid', kernel_constraint=Custom_kernelinit(min_value=0.01, max_value=1.0, rate=1.0, axis=0))(dense_m1)\n",
    "dense_m1 = Dropout(0.2)(dense_m1)\n",
    "dense_m1 = BatchNormalization()(dense_m1)\n",
    "\n",
    "dense_m1 = Dense(256, activation='sigmoid', kernel_constraint=Custom_kernelinit(min_value=0.01, max_value=1.0, rate=1.0, axis=0))(dense_m1)\n",
    "dense_m1 = Dropout(0.2)(dense_m1)\n",
    "dense_m1 = BatchNormalization()(dense_m1)\n",
    "flat1 = Flatten()(dense_m1)\n",
    "\n",
    "m1 = Model(inputs=visible1, outputs=flat1)\n",
    "m1.compile(optimizer=opt)\n",
    "\n",
    "# second input model\n",
    "visible2 = Input(shape=(input_shape_nm,))\n",
    "dense_nm1 = Dense(1024, activation='relu')(visible2)\n",
    "dense_nm1 = Dropout(0.2)(dense_nm1)\n",
    "dense_nm1 = BatchNormalization()(dense_nm1)\n",
    "\n",
    "dense_nm1 = Dense(512, activation='relu')(dense_nm1)\n",
    "dense_nm1 = Dropout(0.2)(dense_nm1)\n",
    "dense_nm1 = BatchNormalization()(dense_nm1)\n",
    "\n",
    "dense_nm1 = Dense(256, activation='relu')(dense_nm1)\n",
    "dense_nm1 = Dropout(0.2)(dense_nm1)\n",
    "dense_nm1 = BatchNormalization()(dense_nm1)\n",
    "flat2 = Flatten()(dense_nm1)\n",
    "\n",
    "m2 = Model(inputs=visible2, outputs=flat2)\n",
    "m2.compile(optimizer='Adam')\n",
    "\n",
    "# merge input models\n",
    "merge = Add()([m1.output, m2.output])\n",
    "# interpretation model\n",
    "hidden1 = Dense(128, activation='relu')(merge)\n",
    "hidden1 = Dropout(0.2)(hidden1)\n",
    "hidden1 = BatchNormalization()(hidden1)\n",
    "hidden1 = Dense(64, activation='relu')(hidden1)\n",
    "hidden1 = Dropout(0.2)(hidden1)\n",
    "hidden1 = BatchNormalization()(hidden1)\n",
    "output = Dense(1, activation='sigmoid')(hidden1)\n",
    "\n",
    "model = Model(inputs=[m1.input, m2.input], outputs=output)\n",
    "\n",
    "# glorot: 128->256 => 0.125 => / 20up"
   ]
  },
  {
   "cell_type": "code",
   "execution_count": 7,
   "metadata": {},
   "outputs": [],
   "source": [
    "# summarize layers\n",
    "#print(model.summary())"
   ]
  },
  {
   "cell_type": "code",
   "execution_count": 8,
   "metadata": {},
   "outputs": [],
   "source": [
    "# plot graph\n",
    "#plot_model(model, to_file='multiple_inputs.png')"
   ]
  },
  {
   "cell_type": "code",
   "execution_count": 9,
   "metadata": {},
   "outputs": [],
   "source": [
    "# 如果model跑不動可以跑這個試試\n",
    "#import os\n",
    "#os.environ[\"KMP_DUPLICATE_LIB_OK\"]=\"True\""
   ]
  },
  {
   "cell_type": "code",
   "execution_count": 10,
   "metadata": {},
   "outputs": [],
   "source": [
    "X_train, X_test, Y_train, Y_test = train_test_split(X_monoanti, Y_mono, test_size=0.2, random_state=87)\n",
    "X_train_nm, X_test_nm, Y_train_nm, Y_test_nm = train_test_split(X_nm, Y_nm, test_size=0.2, random_state=87)"
   ]
  },
  {
   "cell_type": "code",
   "execution_count": 11,
   "metadata": {},
   "outputs": [
    {
     "name": "stdout",
     "output_type": "stream",
     "text": [
      "Epoch 1/200\n",
      "293/293 - 20s - loss: 0.6943 - accuracy: 0.5881 - val_loss: 0.6606 - val_accuracy: 0.5995\n",
      "Epoch 2/200\n",
      "293/293 - 3s - loss: 0.5947 - accuracy: 0.6781 - val_loss: 0.5369 - val_accuracy: 0.7198\n",
      "Epoch 3/200\n",
      "293/293 - 3s - loss: 0.4521 - accuracy: 0.7840 - val_loss: 0.3950 - val_accuracy: 0.8146\n",
      "Epoch 4/200\n",
      "293/293 - 3s - loss: 0.3275 - accuracy: 0.8541 - val_loss: 0.3416 - val_accuracy: 0.8505\n",
      "Epoch 5/200\n",
      "293/293 - 3s - loss: 0.2498 - accuracy: 0.8926 - val_loss: 0.2972 - val_accuracy: 0.8705\n",
      "Epoch 6/200\n",
      "293/293 - 3s - loss: 0.2045 - accuracy: 0.9144 - val_loss: 0.2729 - val_accuracy: 0.8835\n",
      "Epoch 7/200\n",
      "293/293 - 3s - loss: 0.1751 - accuracy: 0.9273 - val_loss: 0.2497 - val_accuracy: 0.8993\n",
      "Epoch 8/200\n",
      "293/293 - 3s - loss: 0.1559 - accuracy: 0.9341 - val_loss: 0.2390 - val_accuracy: 0.9057\n",
      "Epoch 9/200\n",
      "293/293 - 3s - loss: 0.1391 - accuracy: 0.9423 - val_loss: 0.3140 - val_accuracy: 0.8839\n",
      "Epoch 10/200\n",
      "293/293 - 3s - loss: 0.1295 - accuracy: 0.9468 - val_loss: 0.2273 - val_accuracy: 0.9143\n",
      "Epoch 11/200\n",
      "293/293 - 3s - loss: 0.1224 - accuracy: 0.9487 - val_loss: 0.2599 - val_accuracy: 0.9033\n",
      "Epoch 12/200\n",
      "293/293 - 3s - loss: 0.1164 - accuracy: 0.9510 - val_loss: 0.2168 - val_accuracy: 0.9197\n",
      "Epoch 13/200\n",
      "293/293 - 3s - loss: 0.1081 - accuracy: 0.9546 - val_loss: 0.2145 - val_accuracy: 0.9212\n",
      "Epoch 14/200\n",
      "293/293 - 3s - loss: 0.1068 - accuracy: 0.9556 - val_loss: 0.2298 - val_accuracy: 0.9171\n",
      "Epoch 15/200\n",
      "293/293 - 3s - loss: 0.1023 - accuracy: 0.9574 - val_loss: 0.3036 - val_accuracy: 0.9006\n",
      "Epoch 16/200\n",
      "293/293 - 3s - loss: 0.0995 - accuracy: 0.9583 - val_loss: 0.2570 - val_accuracy: 0.9095\n",
      "Epoch 17/200\n",
      "293/293 - 3s - loss: 0.0956 - accuracy: 0.9604 - val_loss: 0.2826 - val_accuracy: 0.9078\n",
      "Epoch 18/200\n",
      "293/293 - 3s - loss: 0.0925 - accuracy: 0.9621 - val_loss: 0.2503 - val_accuracy: 0.9174\n",
      "Epoch 19/200\n",
      "293/293 - 3s - loss: 0.0913 - accuracy: 0.9608 - val_loss: 0.2699 - val_accuracy: 0.9114\n",
      "Epoch 20/200\n",
      "293/293 - 3s - loss: 0.0879 - accuracy: 0.9630 - val_loss: 0.2457 - val_accuracy: 0.9167\n",
      "Epoch 21/200\n",
      "293/293 - 3s - loss: 0.0859 - accuracy: 0.9641 - val_loss: 0.2522 - val_accuracy: 0.9190\n",
      "Epoch 22/200\n",
      "293/293 - 3s - loss: 0.0851 - accuracy: 0.9643 - val_loss: 0.2422 - val_accuracy: 0.9194\n",
      "Epoch 23/200\n",
      "293/293 - 3s - loss: 0.0809 - accuracy: 0.9656 - val_loss: 0.2583 - val_accuracy: 0.9199\n",
      "Epoch 24/200\n",
      "293/293 - 3s - loss: 0.0813 - accuracy: 0.9657 - val_loss: 0.2785 - val_accuracy: 0.9121\n",
      "Epoch 25/200\n",
      "293/293 - 3s - loss: 0.0807 - accuracy: 0.9659 - val_loss: 0.3250 - val_accuracy: 0.9046\n",
      "Epoch 26/200\n",
      "293/293 - 3s - loss: 0.0816 - accuracy: 0.9658 - val_loss: 0.2157 - val_accuracy: 0.9262\n",
      "Epoch 27/200\n",
      "293/293 - 3s - loss: 0.0793 - accuracy: 0.9665 - val_loss: 0.2783 - val_accuracy: 0.9140\n",
      "Epoch 28/200\n",
      "293/293 - 3s - loss: 0.0787 - accuracy: 0.9669 - val_loss: 0.2434 - val_accuracy: 0.9194\n",
      "Epoch 29/200\n",
      "293/293 - 3s - loss: 0.0778 - accuracy: 0.9670 - val_loss: 0.2331 - val_accuracy: 0.9256\n",
      "Epoch 30/200\n",
      "293/293 - 3s - loss: 0.0766 - accuracy: 0.9678 - val_loss: 0.2483 - val_accuracy: 0.9212\n",
      "Epoch 31/200\n",
      "293/293 - 3s - loss: 0.0751 - accuracy: 0.9682 - val_loss: 0.2638 - val_accuracy: 0.9192\n",
      "Epoch 32/200\n",
      "293/293 - 3s - loss: 0.0731 - accuracy: 0.9694 - val_loss: 0.2284 - val_accuracy: 0.9262\n",
      "Epoch 33/200\n",
      "293/293 - 3s - loss: 0.0743 - accuracy: 0.9689 - val_loss: 0.2466 - val_accuracy: 0.9253\n",
      "Epoch 34/200\n",
      "293/293 - 3s - loss: 0.0724 - accuracy: 0.9690 - val_loss: 0.2323 - val_accuracy: 0.9263\n",
      "Epoch 35/200\n",
      "293/293 - 3s - loss: 0.0726 - accuracy: 0.9694 - val_loss: 0.2707 - val_accuracy: 0.9172\n",
      "Epoch 36/200\n",
      "293/293 - 3s - loss: 0.0721 - accuracy: 0.9694 - val_loss: 0.2559 - val_accuracy: 0.9215\n",
      "Epoch 37/200\n",
      "293/293 - 3s - loss: 0.0716 - accuracy: 0.9696 - val_loss: 0.2837 - val_accuracy: 0.9101\n",
      "Epoch 38/200\n",
      "293/293 - 3s - loss: 0.0702 - accuracy: 0.9701 - val_loss: 0.2663 - val_accuracy: 0.9180\n",
      "Epoch 39/200\n",
      "293/293 - 3s - loss: 0.0685 - accuracy: 0.9706 - val_loss: 0.2376 - val_accuracy: 0.9246\n",
      "Epoch 40/200\n",
      "293/293 - 3s - loss: 0.0701 - accuracy: 0.9698 - val_loss: 0.2432 - val_accuracy: 0.9285\n",
      "Epoch 41/200\n",
      "293/293 - 3s - loss: 0.0693 - accuracy: 0.9708 - val_loss: 0.2705 - val_accuracy: 0.9192\n",
      "Epoch 42/200\n",
      "293/293 - 3s - loss: 0.0693 - accuracy: 0.9698 - val_loss: 0.2728 - val_accuracy: 0.9160\n",
      "Epoch 43/200\n",
      "293/293 - 3s - loss: 0.0667 - accuracy: 0.9711 - val_loss: 0.2649 - val_accuracy: 0.9223\n",
      "Epoch 44/200\n",
      "293/293 - 3s - loss: 0.0673 - accuracy: 0.9709 - val_loss: 0.2279 - val_accuracy: 0.9290\n",
      "Epoch 45/200\n",
      "293/293 - 3s - loss: 0.0670 - accuracy: 0.9714 - val_loss: 0.2811 - val_accuracy: 0.9169\n",
      "Epoch 46/200\n",
      "293/293 - 3s - loss: 0.0654 - accuracy: 0.9717 - val_loss: 0.2526 - val_accuracy: 0.9258\n",
      "Epoch 47/200\n",
      "293/293 - 3s - loss: 0.0652 - accuracy: 0.9720 - val_loss: 0.2720 - val_accuracy: 0.9206\n",
      "Epoch 48/200\n",
      "293/293 - 3s - loss: 0.0661 - accuracy: 0.9715 - val_loss: 0.2424 - val_accuracy: 0.9261\n",
      "Epoch 49/200\n",
      "293/293 - 3s - loss: 0.0659 - accuracy: 0.9720 - val_loss: 0.2404 - val_accuracy: 0.9286\n",
      "Epoch 50/200\n",
      "293/293 - 3s - loss: 0.0645 - accuracy: 0.9719 - val_loss: 0.2627 - val_accuracy: 0.9243\n",
      "Epoch 51/200\n",
      "293/293 - 3s - loss: 0.0635 - accuracy: 0.9728 - val_loss: 0.2415 - val_accuracy: 0.9282\n",
      "Epoch 52/200\n",
      "293/293 - 3s - loss: 0.0636 - accuracy: 0.9726 - val_loss: 0.1948 - val_accuracy: 0.9383\n",
      "Epoch 53/200\n",
      "293/293 - 3s - loss: 0.0644 - accuracy: 0.9723 - val_loss: 0.2842 - val_accuracy: 0.9203\n",
      "Epoch 54/200\n",
      "293/293 - 3s - loss: 0.0631 - accuracy: 0.9730 - val_loss: 0.2088 - val_accuracy: 0.9340\n",
      "Epoch 55/200\n",
      "293/293 - 3s - loss: 0.0632 - accuracy: 0.9731 - val_loss: 0.2328 - val_accuracy: 0.9335\n",
      "Epoch 56/200\n",
      "293/293 - 3s - loss: 0.0628 - accuracy: 0.9730 - val_loss: 0.2416 - val_accuracy: 0.9267\n",
      "Epoch 57/200\n",
      "293/293 - 3s - loss: 0.0620 - accuracy: 0.9728 - val_loss: 0.2476 - val_accuracy: 0.9269\n",
      "Epoch 58/200\n",
      "293/293 - 3s - loss: 0.0610 - accuracy: 0.9735 - val_loss: 0.2738 - val_accuracy: 0.9233\n",
      "Epoch 59/200\n",
      "293/293 - 3s - loss: 0.0611 - accuracy: 0.9732 - val_loss: 0.2641 - val_accuracy: 0.9244\n",
      "Epoch 60/200\n",
      "293/293 - 3s - loss: 0.0618 - accuracy: 0.9733 - val_loss: 0.2491 - val_accuracy: 0.9291\n",
      "Epoch 61/200\n",
      "293/293 - 3s - loss: 0.0608 - accuracy: 0.9733 - val_loss: 0.2161 - val_accuracy: 0.9330\n",
      "Epoch 62/200\n",
      "293/293 - 3s - loss: 0.0604 - accuracy: 0.9738 - val_loss: 0.2536 - val_accuracy: 0.9293\n",
      "Epoch 63/200\n",
      "293/293 - 3s - loss: 0.0610 - accuracy: 0.9733 - val_loss: 0.2507 - val_accuracy: 0.9247\n",
      "Epoch 64/200\n",
      "293/293 - 3s - loss: 0.0596 - accuracy: 0.9738 - val_loss: 0.2312 - val_accuracy: 0.9334\n",
      "Epoch 65/200\n",
      "293/293 - 3s - loss: 0.0588 - accuracy: 0.9742 - val_loss: 0.2117 - val_accuracy: 0.9372\n",
      "Epoch 66/200\n",
      "293/293 - 3s - loss: 0.0604 - accuracy: 0.9734 - val_loss: 0.2145 - val_accuracy: 0.9337\n",
      "Epoch 67/200\n",
      "293/293 - 3s - loss: 0.0592 - accuracy: 0.9741 - val_loss: 0.2556 - val_accuracy: 0.9269\n",
      "Epoch 68/200\n",
      "293/293 - 3s - loss: 0.0585 - accuracy: 0.9744 - val_loss: 0.2222 - val_accuracy: 0.9331\n",
      "Epoch 69/200\n",
      "293/293 - 3s - loss: 0.0595 - accuracy: 0.9743 - val_loss: 0.2496 - val_accuracy: 0.9248\n",
      "Epoch 70/200\n",
      "293/293 - 3s - loss: 0.0589 - accuracy: 0.9741 - val_loss: 0.2127 - val_accuracy: 0.9358\n",
      "Epoch 71/200\n",
      "293/293 - 3s - loss: 0.0582 - accuracy: 0.9746 - val_loss: 0.2252 - val_accuracy: 0.9299\n",
      "Epoch 72/200\n",
      "293/293 - 3s - loss: 0.0584 - accuracy: 0.9745 - val_loss: 0.2536 - val_accuracy: 0.9293\n",
      "Epoch 73/200\n",
      "293/293 - 3s - loss: 0.0592 - accuracy: 0.9740 - val_loss: 0.2392 - val_accuracy: 0.9303\n",
      "Epoch 74/200\n",
      "293/293 - 3s - loss: 0.0579 - accuracy: 0.9751 - val_loss: 0.2240 - val_accuracy: 0.9322\n",
      "Epoch 75/200\n",
      "293/293 - 3s - loss: 0.0564 - accuracy: 0.9746 - val_loss: 0.2429 - val_accuracy: 0.9308\n",
      "Epoch 76/200\n",
      "293/293 - 3s - loss: 0.0593 - accuracy: 0.9739 - val_loss: 0.2743 - val_accuracy: 0.9212\n",
      "Epoch 77/200\n",
      "293/293 - 3s - loss: 0.0565 - accuracy: 0.9749 - val_loss: 0.2539 - val_accuracy: 0.9299\n",
      "Epoch 78/200\n",
      "293/293 - 3s - loss: 0.0590 - accuracy: 0.9739 - val_loss: 0.2485 - val_accuracy: 0.9293\n",
      "Epoch 79/200\n",
      "293/293 - 3s - loss: 0.0574 - accuracy: 0.9748 - val_loss: 0.2024 - val_accuracy: 0.9378\n",
      "Epoch 80/200\n",
      "293/293 - 3s - loss: 0.0564 - accuracy: 0.9750 - val_loss: 0.2381 - val_accuracy: 0.9311\n",
      "Epoch 81/200\n",
      "293/293 - 3s - loss: 0.0576 - accuracy: 0.9749 - val_loss: 0.2664 - val_accuracy: 0.9256\n",
      "Epoch 82/200\n",
      "293/293 - 3s - loss: 0.0573 - accuracy: 0.9746 - val_loss: 0.2300 - val_accuracy: 0.9353\n",
      "Epoch 83/200\n",
      "293/293 - 3s - loss: 0.0557 - accuracy: 0.9754 - val_loss: 0.2615 - val_accuracy: 0.9267\n",
      "Epoch 84/200\n",
      "293/293 - 3s - loss: 0.0564 - accuracy: 0.9753 - val_loss: 0.2028 - val_accuracy: 0.9380\n",
      "Epoch 85/200\n",
      "293/293 - 3s - loss: 0.0564 - accuracy: 0.9751 - val_loss: 0.2265 - val_accuracy: 0.9326\n",
      "Epoch 86/200\n",
      "293/293 - 3s - loss: 0.0559 - accuracy: 0.9752 - val_loss: 0.2104 - val_accuracy: 0.9358\n",
      "Epoch 87/200\n",
      "293/293 - 3s - loss: 0.0564 - accuracy: 0.9752 - val_loss: 0.2503 - val_accuracy: 0.9300\n",
      "Epoch 88/200\n",
      "293/293 - 3s - loss: 0.0562 - accuracy: 0.9751 - val_loss: 0.2475 - val_accuracy: 0.9288\n",
      "Epoch 89/200\n",
      "293/293 - 3s - loss: 0.0551 - accuracy: 0.9754 - val_loss: 0.2703 - val_accuracy: 0.9285\n",
      "Epoch 90/200\n",
      "293/293 - 3s - loss: 0.0565 - accuracy: 0.9749 - val_loss: 0.2171 - val_accuracy: 0.9379\n",
      "Epoch 91/200\n",
      "293/293 - 3s - loss: 0.0559 - accuracy: 0.9755 - val_loss: 0.2456 - val_accuracy: 0.9315\n",
      "Epoch 92/200\n",
      "293/293 - 3s - loss: 0.0553 - accuracy: 0.9752 - val_loss: 0.2388 - val_accuracy: 0.9319\n",
      "Epoch 93/200\n",
      "293/293 - 3s - loss: 0.0569 - accuracy: 0.9754 - val_loss: 0.2402 - val_accuracy: 0.9307\n",
      "Epoch 94/200\n",
      "293/293 - 3s - loss: 0.0549 - accuracy: 0.9753 - val_loss: 0.2279 - val_accuracy: 0.9359\n",
      "Epoch 95/200\n",
      "293/293 - 3s - loss: 0.0541 - accuracy: 0.9760 - val_loss: 0.2195 - val_accuracy: 0.9383\n",
      "Epoch 96/200\n",
      "293/293 - 3s - loss: 0.0535 - accuracy: 0.9761 - val_loss: 0.2663 - val_accuracy: 0.9294\n",
      "Epoch 97/200\n",
      "293/293 - 3s - loss: 0.0544 - accuracy: 0.9757 - val_loss: 0.2117 - val_accuracy: 0.9390\n",
      "Epoch 98/200\n",
      "293/293 - 3s - loss: 0.0554 - accuracy: 0.9752 - val_loss: 0.2330 - val_accuracy: 0.9337\n",
      "Epoch 99/200\n",
      "293/293 - 3s - loss: 0.0532 - accuracy: 0.9758 - val_loss: 0.2780 - val_accuracy: 0.9250\n",
      "Epoch 100/200\n",
      "293/293 - 3s - loss: 0.0533 - accuracy: 0.9760 - val_loss: 0.2301 - val_accuracy: 0.9357\n",
      "Epoch 101/200\n",
      "293/293 - 3s - loss: 0.0554 - accuracy: 0.9754 - val_loss: 0.2732 - val_accuracy: 0.9244\n",
      "Epoch 102/200\n",
      "293/293 - 3s - loss: 0.0542 - accuracy: 0.9760 - val_loss: 0.2426 - val_accuracy: 0.9297\n",
      "Epoch 103/200\n",
      "293/293 - 3s - loss: 0.0528 - accuracy: 0.9760 - val_loss: 0.2752 - val_accuracy: 0.9293\n",
      "Epoch 104/200\n",
      "293/293 - 3s - loss: 0.0547 - accuracy: 0.9760 - val_loss: 0.2375 - val_accuracy: 0.9273\n",
      "Epoch 105/200\n",
      "293/293 - 3s - loss: 0.0535 - accuracy: 0.9760 - val_loss: 0.2560 - val_accuracy: 0.9314\n",
      "Epoch 106/200\n",
      "293/293 - 3s - loss: 0.0528 - accuracy: 0.9764 - val_loss: 0.2244 - val_accuracy: 0.9356\n",
      "Epoch 107/200\n",
      "293/293 - 3s - loss: 0.0537 - accuracy: 0.9761 - val_loss: 0.2852 - val_accuracy: 0.9265\n",
      "Epoch 108/200\n",
      "293/293 - 3s - loss: 0.0546 - accuracy: 0.9757 - val_loss: 0.2402 - val_accuracy: 0.9332\n",
      "Epoch 109/200\n",
      "293/293 - 3s - loss: 0.0523 - accuracy: 0.9761 - val_loss: 0.2551 - val_accuracy: 0.9301\n",
      "Epoch 110/200\n",
      "293/293 - 3s - loss: 0.0533 - accuracy: 0.9761 - val_loss: 0.2506 - val_accuracy: 0.9318\n",
      "Epoch 111/200\n",
      "293/293 - 3s - loss: 0.0527 - accuracy: 0.9766 - val_loss: 0.2543 - val_accuracy: 0.9341\n",
      "Epoch 112/200\n",
      "293/293 - 3s - loss: 0.0522 - accuracy: 0.9762 - val_loss: 0.2206 - val_accuracy: 0.9344\n",
      "Epoch 113/200\n",
      "293/293 - 3s - loss: 0.0538 - accuracy: 0.9759 - val_loss: 0.2459 - val_accuracy: 0.9310\n",
      "Epoch 114/200\n",
      "293/293 - 3s - loss: 0.0526 - accuracy: 0.9765 - val_loss: 0.2230 - val_accuracy: 0.9385\n",
      "Epoch 115/200\n",
      "293/293 - 3s - loss: 0.0524 - accuracy: 0.9764 - val_loss: 0.2575 - val_accuracy: 0.9320\n",
      "Epoch 116/200\n",
      "293/293 - 3s - loss: 0.0525 - accuracy: 0.9765 - val_loss: 0.2308 - val_accuracy: 0.9345\n",
      "Epoch 117/200\n",
      "293/293 - 3s - loss: 0.0533 - accuracy: 0.9759 - val_loss: 0.2517 - val_accuracy: 0.9337\n",
      "Epoch 118/200\n",
      "293/293 - 3s - loss: 0.0530 - accuracy: 0.9759 - val_loss: 0.2795 - val_accuracy: 0.9329\n",
      "Epoch 119/200\n",
      "293/293 - 3s - loss: 0.0521 - accuracy: 0.9766 - val_loss: 0.2492 - val_accuracy: 0.9328\n",
      "Epoch 120/200\n",
      "293/293 - 3s - loss: 0.0527 - accuracy: 0.9761 - val_loss: 0.2312 - val_accuracy: 0.9382\n",
      "Epoch 121/200\n",
      "293/293 - 3s - loss: 0.0528 - accuracy: 0.9768 - val_loss: 0.2817 - val_accuracy: 0.9279\n",
      "Epoch 122/200\n",
      "293/293 - 3s - loss: 0.0525 - accuracy: 0.9766 - val_loss: 0.2365 - val_accuracy: 0.9365\n",
      "Epoch 123/200\n",
      "293/293 - 3s - loss: 0.0517 - accuracy: 0.9767 - val_loss: 0.2644 - val_accuracy: 0.9335\n",
      "Epoch 124/200\n",
      "293/293 - 3s - loss: 0.0510 - accuracy: 0.9771 - val_loss: 0.2920 - val_accuracy: 0.9309\n",
      "Epoch 125/200\n",
      "293/293 - 3s - loss: 0.0532 - accuracy: 0.9763 - val_loss: 0.2380 - val_accuracy: 0.9341\n",
      "Epoch 126/200\n",
      "293/293 - 3s - loss: 0.0505 - accuracy: 0.9770 - val_loss: 0.2781 - val_accuracy: 0.9304\n",
      "Epoch 127/200\n",
      "293/293 - 3s - loss: 0.0512 - accuracy: 0.9766 - val_loss: 0.2581 - val_accuracy: 0.9309\n",
      "Epoch 128/200\n",
      "293/293 - 3s - loss: 0.0527 - accuracy: 0.9762 - val_loss: 0.2601 - val_accuracy: 0.9310\n",
      "Epoch 129/200\n",
      "293/293 - 3s - loss: 0.0523 - accuracy: 0.9762 - val_loss: 0.2478 - val_accuracy: 0.9353\n",
      "Epoch 130/200\n",
      "293/293 - 3s - loss: 0.0524 - accuracy: 0.9764 - val_loss: 0.2427 - val_accuracy: 0.9372\n",
      "Epoch 131/200\n",
      "293/293 - 3s - loss: 0.0510 - accuracy: 0.9769 - val_loss: 0.2599 - val_accuracy: 0.9309\n",
      "Epoch 132/200\n",
      "293/293 - 3s - loss: 0.0517 - accuracy: 0.9767 - val_loss: 0.2628 - val_accuracy: 0.9291\n",
      "Epoch 133/200\n",
      "293/293 - 3s - loss: 0.0510 - accuracy: 0.9766 - val_loss: 0.2465 - val_accuracy: 0.9316\n",
      "Epoch 134/200\n",
      "293/293 - 3s - loss: 0.0519 - accuracy: 0.9766 - val_loss: 0.2354 - val_accuracy: 0.9367\n",
      "Epoch 135/200\n",
      "293/293 - 3s - loss: 0.0514 - accuracy: 0.9770 - val_loss: 0.2362 - val_accuracy: 0.9367\n",
      "Epoch 136/200\n",
      "293/293 - 3s - loss: 0.0519 - accuracy: 0.9765 - val_loss: 0.2599 - val_accuracy: 0.9354\n",
      "Epoch 137/200\n",
      "293/293 - 3s - loss: 0.0511 - accuracy: 0.9769 - val_loss: 0.2407 - val_accuracy: 0.9336\n",
      "Epoch 138/200\n",
      "293/293 - 3s - loss: 0.0514 - accuracy: 0.9769 - val_loss: 0.2373 - val_accuracy: 0.9355\n",
      "Epoch 139/200\n",
      "293/293 - 3s - loss: 0.0514 - accuracy: 0.9770 - val_loss: 0.2363 - val_accuracy: 0.9334\n",
      "Epoch 140/200\n",
      "293/293 - 3s - loss: 0.0512 - accuracy: 0.9766 - val_loss: 0.2440 - val_accuracy: 0.9335\n",
      "Epoch 141/200\n",
      "293/293 - 3s - loss: 0.0514 - accuracy: 0.9766 - val_loss: 0.2452 - val_accuracy: 0.9346\n",
      "Epoch 142/200\n",
      "293/293 - 3s - loss: 0.0520 - accuracy: 0.9765 - val_loss: 0.2700 - val_accuracy: 0.9291\n",
      "Epoch 143/200\n",
      "293/293 - 3s - loss: 0.0513 - accuracy: 0.9766 - val_loss: 0.2309 - val_accuracy: 0.9394\n",
      "Epoch 144/200\n",
      "293/293 - 3s - loss: 0.0510 - accuracy: 0.9772 - val_loss: 0.2406 - val_accuracy: 0.9351\n",
      "Epoch 145/200\n",
      "293/293 - 3s - loss: 0.0512 - accuracy: 0.9768 - val_loss: 0.2262 - val_accuracy: 0.9368\n",
      "Epoch 146/200\n",
      "293/293 - 3s - loss: 0.0506 - accuracy: 0.9771 - val_loss: 0.2415 - val_accuracy: 0.9328\n",
      "Epoch 147/200\n",
      "293/293 - 3s - loss: 0.0507 - accuracy: 0.9767 - val_loss: 0.2192 - val_accuracy: 0.9409\n",
      "Epoch 148/200\n",
      "293/293 - 3s - loss: 0.0511 - accuracy: 0.9768 - val_loss: 0.2778 - val_accuracy: 0.9266\n",
      "Epoch 149/200\n",
      "293/293 - 3s - loss: 0.0510 - accuracy: 0.9766 - val_loss: 0.2380 - val_accuracy: 0.9362\n",
      "Epoch 150/200\n",
      "293/293 - 3s - loss: 0.0500 - accuracy: 0.9772 - val_loss: 0.2637 - val_accuracy: 0.9349\n",
      "Epoch 151/200\n",
      "293/293 - 3s - loss: 0.0515 - accuracy: 0.9769 - val_loss: 0.2527 - val_accuracy: 0.9319\n",
      "Epoch 152/200\n",
      "293/293 - 3s - loss: 0.0506 - accuracy: 0.9770 - val_loss: 0.2482 - val_accuracy: 0.9354\n",
      "Epoch 153/200\n",
      "293/293 - 3s - loss: 0.0496 - accuracy: 0.9773 - val_loss: 0.2399 - val_accuracy: 0.9378\n",
      "Epoch 154/200\n",
      "293/293 - 3s - loss: 0.0509 - accuracy: 0.9772 - val_loss: 0.2372 - val_accuracy: 0.9365\n",
      "Epoch 155/200\n",
      "293/293 - 3s - loss: 0.0516 - accuracy: 0.9768 - val_loss: 0.2365 - val_accuracy: 0.9341\n",
      "Epoch 156/200\n",
      "293/293 - 3s - loss: 0.0504 - accuracy: 0.9771 - val_loss: 0.2383 - val_accuracy: 0.9349\n",
      "Epoch 157/200\n",
      "293/293 - 3s - loss: 0.0511 - accuracy: 0.9769 - val_loss: 0.2448 - val_accuracy: 0.9335\n",
      "Epoch 158/200\n",
      "293/293 - 3s - loss: 0.0501 - accuracy: 0.9774 - val_loss: 0.2226 - val_accuracy: 0.9408\n",
      "Epoch 159/200\n",
      "293/293 - 3s - loss: 0.0509 - accuracy: 0.9768 - val_loss: 0.2292 - val_accuracy: 0.9367\n",
      "Epoch 160/200\n",
      "293/293 - 3s - loss: 0.0497 - accuracy: 0.9774 - val_loss: 0.2403 - val_accuracy: 0.9401\n",
      "Epoch 161/200\n",
      "293/293 - 3s - loss: 0.0511 - accuracy: 0.9771 - val_loss: 0.2395 - val_accuracy: 0.9347\n",
      "Epoch 162/200\n",
      "293/293 - 3s - loss: 0.0507 - accuracy: 0.9773 - val_loss: 0.2479 - val_accuracy: 0.9351\n",
      "Epoch 163/200\n",
      "293/293 - 3s - loss: 0.0500 - accuracy: 0.9774 - val_loss: 0.2285 - val_accuracy: 0.9373\n",
      "Epoch 164/200\n",
      "293/293 - 3s - loss: 0.0501 - accuracy: 0.9768 - val_loss: 0.2352 - val_accuracy: 0.9375\n",
      "Epoch 165/200\n",
      "293/293 - 3s - loss: 0.0493 - accuracy: 0.9774 - val_loss: 0.2598 - val_accuracy: 0.9328\n",
      "Epoch 166/200\n",
      "293/293 - 3s - loss: 0.0502 - accuracy: 0.9772 - val_loss: 0.2379 - val_accuracy: 0.9367\n",
      "Epoch 167/200\n",
      "293/293 - 3s - loss: 0.0500 - accuracy: 0.9772 - val_loss: 0.2491 - val_accuracy: 0.9318\n",
      "Epoch 168/200\n",
      "293/293 - 3s - loss: 0.0507 - accuracy: 0.9770 - val_loss: 0.2450 - val_accuracy: 0.9329\n",
      "Epoch 169/200\n",
      "293/293 - 3s - loss: 0.0492 - accuracy: 0.9771 - val_loss: 0.2316 - val_accuracy: 0.9400\n",
      "Epoch 170/200\n",
      "293/293 - 3s - loss: 0.0497 - accuracy: 0.9771 - val_loss: 0.2075 - val_accuracy: 0.9422\n",
      "Epoch 171/200\n",
      "293/293 - 3s - loss: 0.0505 - accuracy: 0.9770 - val_loss: 0.2536 - val_accuracy: 0.9327\n",
      "Epoch 172/200\n",
      "293/293 - 3s - loss: 0.0495 - accuracy: 0.9774 - val_loss: 0.2236 - val_accuracy: 0.9363\n",
      "Epoch 173/200\n",
      "293/293 - 3s - loss: 0.0492 - accuracy: 0.9774 - val_loss: 0.2654 - val_accuracy: 0.9336\n",
      "Epoch 174/200\n",
      "293/293 - 3s - loss: 0.0497 - accuracy: 0.9774 - val_loss: 0.2717 - val_accuracy: 0.9339\n",
      "Epoch 175/200\n",
      "293/293 - 3s - loss: 0.0505 - accuracy: 0.9769 - val_loss: 0.2156 - val_accuracy: 0.9387\n",
      "Epoch 176/200\n",
      "293/293 - 3s - loss: 0.0498 - accuracy: 0.9773 - val_loss: 0.2098 - val_accuracy: 0.9401\n",
      "Epoch 177/200\n",
      "293/293 - 3s - loss: 0.0489 - accuracy: 0.9775 - val_loss: 0.2455 - val_accuracy: 0.9379\n",
      "Epoch 178/200\n",
      "293/293 - 3s - loss: 0.0496 - accuracy: 0.9775 - val_loss: 0.2556 - val_accuracy: 0.9371\n",
      "Epoch 179/200\n",
      "293/293 - 3s - loss: 0.0501 - accuracy: 0.9768 - val_loss: 0.2128 - val_accuracy: 0.9399\n",
      "Epoch 180/200\n",
      "293/293 - 3s - loss: 0.0492 - accuracy: 0.9776 - val_loss: 0.2325 - val_accuracy: 0.9399\n",
      "Epoch 181/200\n",
      "293/293 - 3s - loss: 0.0497 - accuracy: 0.9772 - val_loss: 0.2336 - val_accuracy: 0.9391\n",
      "Epoch 182/200\n",
      "293/293 - 3s - loss: 0.0497 - accuracy: 0.9775 - val_loss: 0.2302 - val_accuracy: 0.9369\n",
      "Epoch 183/200\n",
      "293/293 - 3s - loss: 0.0499 - accuracy: 0.9773 - val_loss: 0.2299 - val_accuracy: 0.9380\n",
      "Epoch 184/200\n",
      "293/293 - 3s - loss: 0.0487 - accuracy: 0.9773 - val_loss: 0.2404 - val_accuracy: 0.9373\n",
      "Epoch 185/200\n",
      "293/293 - 3s - loss: 0.0493 - accuracy: 0.9773 - val_loss: 0.3264 - val_accuracy: 0.9256\n",
      "Epoch 186/200\n",
      "293/293 - 3s - loss: 0.0496 - accuracy: 0.9776 - val_loss: 0.2516 - val_accuracy: 0.9354\n",
      "Epoch 187/200\n",
      "293/293 - 3s - loss: 0.0492 - accuracy: 0.9776 - val_loss: 0.2523 - val_accuracy: 0.9353\n",
      "Epoch 188/200\n",
      "293/293 - 3s - loss: 0.0496 - accuracy: 0.9776 - val_loss: 0.2764 - val_accuracy: 0.9314\n",
      "Epoch 189/200\n",
      "293/293 - 3s - loss: 0.0494 - accuracy: 0.9775 - val_loss: 0.2522 - val_accuracy: 0.9370\n",
      "Epoch 190/200\n",
      "293/293 - 3s - loss: 0.0490 - accuracy: 0.9775 - val_loss: 0.2447 - val_accuracy: 0.9357\n",
      "Epoch 191/200\n",
      "293/293 - 3s - loss: 0.0492 - accuracy: 0.9773 - val_loss: 0.2502 - val_accuracy: 0.9324\n",
      "Epoch 192/200\n",
      "293/293 - 3s - loss: 0.0500 - accuracy: 0.9772 - val_loss: 0.2194 - val_accuracy: 0.9361\n",
      "Epoch 193/200\n",
      "293/293 - 3s - loss: 0.0492 - accuracy: 0.9776 - val_loss: 0.2448 - val_accuracy: 0.9351\n",
      "Epoch 194/200\n",
      "293/293 - 3s - loss: 0.0492 - accuracy: 0.9775 - val_loss: 0.2544 - val_accuracy: 0.9334\n",
      "Epoch 195/200\n",
      "293/293 - 3s - loss: 0.0509 - accuracy: 0.9766 - val_loss: 0.2719 - val_accuracy: 0.9292\n",
      "Epoch 196/200\n",
      "293/293 - 3s - loss: 0.0495 - accuracy: 0.9773 - val_loss: 0.2316 - val_accuracy: 0.9358\n",
      "Epoch 197/200\n",
      "293/293 - 3s - loss: 0.0483 - accuracy: 0.9781 - val_loss: 0.2247 - val_accuracy: 0.9383\n",
      "Epoch 198/200\n",
      "293/293 - 3s - loss: 0.0485 - accuracy: 0.9777 - val_loss: 0.2285 - val_accuracy: 0.9372\n",
      "Epoch 199/200\n",
      "293/293 - 3s - loss: 0.0486 - accuracy: 0.9780 - val_loss: 0.2567 - val_accuracy: 0.9365\n",
      "Epoch 200/200\n",
      "293/293 - 3s - loss: 0.0491 - accuracy: 0.9774 - val_loss: 0.2690 - val_accuracy: 0.9334\n",
      "dict_keys(['loss', 'accuracy', 'val_loss', 'val_accuracy'])\n"
     ]
    }
   ],
   "source": [
    "# Compile model\n",
    "from CustomOPt import Custom\n",
    "opt = Custom(lr=0.001, beta_1=0.75, beta_2=0.999)\n",
    "\n",
    "model.compile(loss='binary_crossentropy', optimizer = opt, metrics=['accuracy'])\n",
    "# Fit the model\n",
    "history = model.fit([X_train, X_train_nm], Y_train, validation_split=0.2, epochs=200, batch_size=256, verbose=2, shuffle=True) # list all data in history\n",
    "# verbose：日志展示，整数 0 :为不在标准输出流输出日志信息 1 :显示进度条 2 :每个epoch输出一行记录\n",
    "\n",
    "print(history.history.keys())"
   ]
  },
  {
   "cell_type": "code",
   "execution_count": 12,
   "metadata": {},
   "outputs": [
    {
     "data": {
      "image/png": "[encoded data removed]",
      "text/plain": [
       "<Figure size 432x288 with 1 Axes>"
      ]
     },
     "metadata": {
      "needs_background": "light"
     },
     "output_type": "display_data"
    },
    {
     "data": {
      "image/png": "[encoded data removed]",
      "text/plain": [
       "<Figure size 432x288 with 1 Axes>"
      ]
     },
     "metadata": {
      "needs_background": "light"
     },
     "output_type": "display_data"
    }
   ],
   "source": [
    "# summarize history for accuracy\n",
    "plt.plot(history.history['accuracy'])\n",
    "plt.plot(history.history['val_accuracy'])\n",
    "plt.title('model accuracy')\n",
    "plt.ylabel('accuracy')\n",
    "plt.xlabel('epoch')\n",
    "plt.legend(['train', 'val'], loc='upper left') \n",
    "plt.show()\n",
    "# summarize history for loss \n",
    "plt.plot(history.history['loss']) \n",
    "plt.plot(history.history['val_loss']) \n",
    "plt.title('model loss')\n",
    "plt.ylabel('loss')\n",
    "plt.xlabel('epoch')\n",
    "plt.legend(['train', 'val'], loc='upper left') \n",
    "plt.show()"
   ]
  },
  {
   "attachments": {},
   "cell_type": "markdown",
   "metadata": {},
   "source": [
    "## Model Performance"
   ]
  },
  {
   "cell_type": "code",
   "execution_count": 13,
   "metadata": {},
   "outputs": [
    {
     "name": "stdout",
     "output_type": "stream",
     "text": [
      "val中(N,true,1)評論數: 11609\n",
      "val中(Y,fake,0)評論數: 11794\n",
      "TP reviews: 10173\n",
      "FP reviews: 62\n",
      "TN reviews: 11732\n",
      "FN reviews: 1436\n",
      "Accuracy:  0.9359911122505662\n",
      "Precison:  0.993942354665364\n",
      "Recall:  0.8763028684641226\n",
      "F1-measure:  0.9314228163340048\n",
      "(117015, 330)\n",
      "(117015, 375)\n",
      "(117015, 1295)\n"
     ]
    }
   ],
   "source": [
    "# val 分類比例\n",
    "c = 0\n",
    "d = 0\n",
    "for i in Y_test:\n",
    "    if (i==1) :\n",
    "        c =c+1\n",
    "    if (i==0) :\n",
    "        d =d+1\n",
    "print(\"val中(N,true,1)評論數:\",c)\n",
    "print(\"val中(Y,fake,0)評論數:\",d)\n",
    "\n",
    "y_pred = model.predict([X_test, X_test_nm]) # Y predict\n",
    "y_pred_original = y_pred\n",
    "y_pred[y_pred <= 0.5] = 0\n",
    "y_pred[y_pred > 0.5] = 1\n",
    "\n",
    "TP = 0\n",
    "FP = 0\n",
    "TN = 0\n",
    "FN = 0\n",
    "\n",
    "for i in range(len(y_pred)): \n",
    "    if Y_test[i]==y_pred[i]==1:\n",
    "        TP += 1\n",
    "    if y_pred[i]==1 and Y_test[i]!=y_pred[i]:\n",
    "        FP += 1\n",
    "    if Y_test[i]==y_pred[i]==0:\n",
    "        TN += 1\n",
    "    if y_pred[i]==0 and Y_test[i]!=y_pred[i]:\n",
    "        FN += 1\n",
    "        \n",
    "print(\"TP reviews:\",TP)\n",
    "print(\"FP reviews:\",FP)\n",
    "print(\"TN reviews:\",TN)\n",
    "print(\"FN reviews:\",FN)\n",
    "\n",
    "Acc = (TP+TN)/(TP+ FN+FP+TN)\n",
    "Pre = (TP)/(TP+FP)\n",
    "Recall = TP / (TP+FN)\n",
    "F1 = 2*((Recall*Pre)/(Recall+Pre))\n",
    "TPR = TP / (TP+FN)\n",
    "FPR = FP / (FP+TN)\n",
    "\n",
    "print(\"Accuracy: \", Acc)\n",
    "print(\"Precison: \", Pre)\n",
    "print(\"Recall: \", Recall)\n",
    "print(\"F1-measure: \", F1)\n",
    "print(X_mono.shape)\n",
    "print(X_anti.shape)\n",
    "print(X_nm.shape)"
   ]
  },
  {
   "cell_type": "code",
   "execution_count": 14,
   "metadata": {},
   "outputs": [
    {
     "name": "stdout",
     "output_type": "stream",
     "text": [
      "AUC:  0.9355229790853766\n"
     ]
    },
    {
     "data": {
      "text/plain": [
       "<Figure size 432x288 with 0 Axes>"
      ]
     },
     "metadata": {},
     "output_type": "display_data"
    },
    {
     "data": {
      "image/png": "[encoded data removed]",
      "text/plain": [
       "<Figure size 720x720 with 1 Axes>"
      ]
     },
     "metadata": {
      "needs_background": "light"
     },
     "output_type": "display_data"
    }
   ],
   "source": [
    "from sklearn.metrics import roc_curve, auc  ###計算roc和auc\n",
    "\n",
    "fpr,tpr,threshold = roc_curve(Y_test, y_pred) ###計算真正率和假正率\n",
    "roc_auc = auc(fpr,tpr) ###計算auc的值\n",
    "plt.figure()\n",
    "lw = 2\n",
    "plt.figure(figsize=(10,10))\n",
    "plt.plot(fpr, tpr, color='darkorange',\n",
    "lw=lw, label='ROC curve (area = %0.2f)' % roc_auc) ###假正率為橫座標，真正率為縱座標做曲線\n",
    "plt.plot([0, 1], [0, 1], color='navy', lw=lw, linestyle='--')\n",
    "plt.xlim([0.0, 1.0])\n",
    "plt.ylim([0.0, 1.05])\n",
    "plt.xlabel('False Positive Rate')\n",
    "plt.ylabel('True Positive Rate')\n",
    "plt.title('Receiver operating characteristic example')\n",
    "plt.legend(loc=\"lower right\")\n",
    "print(\"AUC: \",roc_auc)\n",
    "plt.show()"
   ]
  },
  {
   "cell_type": "code",
   "execution_count": 15,
   "metadata": {},
   "outputs": [
    {
     "data": {
      "text/plain": [
       "(23403, 705)"
      ]
     },
     "execution_count": 15,
     "metadata": {},
     "output_type": "execute_result"
    }
   ],
   "source": [
    "X_test.shape"
   ]
  },
  {
   "cell_type": "code",
   "execution_count": 16,
   "metadata": {},
   "outputs": [
    {
     "name": "stdout",
     "output_type": "stream",
     "text": [
      "273838503\n"
     ]
    }
   ],
   "source": [
    "import math\n",
    "# Cn取m\n",
    "n = 23403\n",
    "m = 2\n",
    "print(math.factorial(n)//(math.factorial(m)*math.factorial(n-m)))"
   ]
  },
  {
   "cell_type": "code",
   "execution_count": 17,
   "metadata": {},
   "outputs": [
    {
     "data": {
      "text/plain": [
       "330"
      ]
     },
     "execution_count": 17,
     "metadata": {},
     "output_type": "execute_result"
    }
   ],
   "source": [
    "X_mono.shape[1]"
   ]
  },
  {
   "cell_type": "code",
   "execution_count": 18,
   "metadata": {},
   "outputs": [
    {
     "name": "stdout",
     "output_type": "stream",
     "text": [
      "23403\n"
     ]
    }
   ],
   "source": [
    "# 將 X_test 分成 mono的feature和anti的feature 並加總 變成一個 (n,2)的shape\n",
    "import math\n",
    "X_test_mono = X_test[:,0:X_mono.shape[1]]\n",
    "X_test_anti = X_test[:,X_mono.shape[1]:]\n",
    "# X_test_nm\n",
    "X_test_sum = []\n",
    "aaa =[]\n",
    "for review in range(len(X_test)):\n",
    "    sum_mono = np.sum(X_test_mono, axis=1)[review]\n",
    "    sum_anti = np.sum(X_test_anti, axis=1)[review]\n",
    "    aaa.append(sum_mono)\n",
    "    aaa.append(sum_anti)\n",
    "    X_test_sum.append(aaa)\n",
    "    aaa = []\n",
    "    \n",
    "print(len(X_test_sum))"
   ]
  },
  {
   "cell_type": "code",
   "execution_count": 19,
   "metadata": {},
   "outputs": [
    {
     "name": "stdout",
     "output_type": "stream",
     "text": [
      "204621833\n",
      "232944588\n",
      "218783210.5\n"
     ]
    }
   ],
   "source": [
    "# FMR = FM / P\n",
    "# 分別對 X_test 和 X_test_nm 檢查 X1~Xn 的不違反單調性的pair數 以及全部數\n",
    "import math\n",
    "length = len(X_test) ## 這裡應該對Xmono+Xnm吧? 好像不是 只需mono和anti\n",
    "FM = []\n",
    "# 先對mono\n",
    "all_num_mono = 0 # 越大 越fake(y越小)\n",
    "all_num_anti = 0 # 越大 越true(y越大)\n",
    "for i in range(0, length): # 兩兩相比\n",
    "    for j in range(i+1, length):\n",
    "        if X_test_sum[i][0] >= X_test_sum[j][0]:\n",
    "            if y_pred_original[i] <= y_pred_original[j]:\n",
    "                all_num_mono = all_num_mono + 1\n",
    "        else:\n",
    "            if y_pred_original[i] >= y_pred_original[j]:\n",
    "                all_num_mono = all_num_mono + 1\n",
    "# 再對anti\n",
    "for i in range(0, length): # 兩兩相比\n",
    "    for j in range(i+1, length):\n",
    "        if X_test_sum[i][1] >= X_test_sum[j][1]:\n",
    "            if y_pred_original[i] >= y_pred_original[j]:\n",
    "                all_num_anti = all_num_anti + 1\n",
    "        else:\n",
    "            if y_pred_original[i] <= y_pred_original[j]:\n",
    "                all_num_anti = all_num_anti + 1\n",
    "\n",
    "FM = (all_num_mono + all_num_anti)/2\n",
    "print(all_num_mono)\n",
    "print(all_num_anti)\n",
    "print(FM)"
   ]
  },
  {
   "cell_type": "code",
   "execution_count": 20,
   "metadata": {},
   "outputs": [
    {
     "data": {
      "text/plain": [
       "0.7989497755178716"
      ]
     },
     "execution_count": 20,
     "metadata": {},
     "output_type": "execute_result"
    }
   ],
   "source": [
    "n = length\n",
    "m = 2\n",
    "P = math.factorial(n)//(math.factorial(m)*math.factorial(n-m))\n",
    "FMR = FM/P\n",
    "FMR"
   ]
  },
  {
   "cell_type": "code",
   "execution_count": 21,
   "metadata": {},
   "outputs": [
    {
     "data": {
      "text/plain": [
       "array([[1.],\n",
       "       [0.],\n",
       "       [1.],\n",
       "       ...,\n",
       "       [1.],\n",
       "       [1.],\n",
       "       [1.]], dtype=float32)"
      ]
     },
     "execution_count": 21,
     "metadata": {},
     "output_type": "execute_result"
    }
   ],
   "source": [
    "y_pred_original"
   ]
  },
  {
   "attachments": {},
   "cell_type": "markdown",
   "metadata": {},
   "source": [
    "## Model1 for Compare"
   ]
  },
  {
   "cell_type": "code",
   "execution_count": 22,
   "metadata": {},
   "outputs": [],
   "source": [
    "#import os\n",
    "#os.environ[\"KMP_DUPLICATE_LIB_OK\"]=\"True\""
   ]
  },
  {
   "cell_type": "code",
   "execution_count": 23,
   "metadata": {},
   "outputs": [
    {
     "name": "stdout",
     "output_type": "stream",
     "text": [
      "(117015, 330)\n",
      "(117015, 375)\n",
      "(117015, 1295)\n",
      "(117015, 2000)\n",
      "(117015,)\n"
     ]
    }
   ],
   "source": [
    "X_mono = np.array(X_mono)\n",
    "X_anti = np.array(X_anti)\n",
    "X_nm = np.array(X_nm)\n",
    "Y_mono = np.array(Y_mono)\n",
    "Y_anti = np.array(Y_anti)\n",
    "Y_nm = np.array(Y_nm)\n",
    "\n",
    "X_all = np.concatenate([X_monoanti,X_nm],axis=1)\n",
    "\n",
    "print(np.shape(X_mono))\n",
    "print(np.shape(X_anti))\n",
    "print(np.shape(X_nm))\n",
    "print(np.shape(X_all))\n",
    "print(np.shape(Y_mono))\n",
    "\n",
    "X_train, X_test, Y_train, Y_test = train_test_split(X_all, Y_mono, test_size=0.2, random_state=87)"
   ]
  },
  {
   "cell_type": "code",
   "execution_count": 24,
   "metadata": {},
   "outputs": [],
   "source": [
    "# Inputs\n",
    "from keras.utils import plot_model\n",
    "from keras.models import Model\n",
    "from keras.layers import Input\n",
    "from keras.layers import Dense\n",
    "from keras.layers import Flatten\n",
    "from keras.layers import BatchNormalization\n",
    "from keras.layers.convolutional import Conv2D\n",
    "from keras.layers.pooling import MaxPooling2D\n",
    "from keras.layers.merge import concatenate\n",
    "from CustomConstraints import Custom_kernelinit\n",
    "import tensorflow as tf\n",
    "tf.compat.v1.enable_eager_execution()\n",
    "\n",
    "input_shape = X_train.shape[1]\n",
    "\n",
    "# first input model\n",
    "visible = Input(shape=(input_shape,))\n",
    "hidden = Dense(256, activation='relu', kernel_initializer='glorot_normal' , bias_initializer='normal' )(visible)\n",
    "hidden = Dropout(0.2)(hidden)\n",
    "hidden = BatchNormalization()(hidden)\n",
    "\n",
    "hidden = Dense(128, activation='relu', kernel_initializer='glorot_normal' , bias_initializer='normal' )(hidden)\n",
    "hidden = Dropout(0.2)(hidden)\n",
    "hidden = BatchNormalization()(hidden)\n",
    "\n",
    "output = Dense(1, activation='sigmoid')(hidden)\n",
    "\n",
    "model1 = Model(inputs=visible, outputs=output)"
   ]
  },
  {
   "cell_type": "code",
   "execution_count": 25,
   "metadata": {},
   "outputs": [
    {
     "data": {
      "text/plain": [
       "\"\\nfrom CustomOPt import Custom\\nimport tensorflow.keras as keras\\nopt = Custom(lr=0.001, beta_1=0.5, beta_2=0.999)\\n\\n# Inputs\\nfrom keras.utils import plot_model\\nfrom keras.models import Model\\nfrom keras.layers import Input\\nfrom keras.layers import Dense\\nfrom keras.layers import Flatten\\nfrom keras.layers import BatchNormalization\\nfrom keras.layers.convolutional import Conv2D\\nfrom keras.layers.pooling import MaxPooling2D\\nfrom keras.layers.merge import concatenate\\nfrom CustomConstraints import Custom_kernelinit\\nimport tensorflow as tf\\ntf.compat.v1.enable_eager_execution()\\n\\ninput_shape = X_train.shape[1]\\nvisible = Input(shape=(input_shape,))\\nhidden = Dense(256, activation='sigmoid', kernel_constraint=keras.constraints.MinMaxNorm(min_value=0.01, max_value=1.0, rate=1.0, axis=0),\\n               kernel_initializer='glorot_normal' , bias_initializer='normal' )(visible)\\nhidden = Dropout(0.2)(hidden)\\nhidden = BatchNormalization()(hidden)\\n\\nhidden = Dense(128, activation='sigmoid', kernel_constraint=keras.constraints.MinMaxNorm(min_value=0.01, max_value=1.0, rate=1.0, axis=0),\\n               kernel_initializer='glorot_normal' , bias_initializer='normal' )(hidden)\\nhidden = Dropout(0.2)(hidden)\\nhidden = BatchNormalization()(hidden)\\n\\noutput = Dense(1, activation='sigmoid')(hidden)\\n\\nmodel1 = Model(inputs=visible, outputs=output)\\n\""
      ]
     },
     "execution_count": 25,
     "metadata": {},
     "output_type": "execute_result"
    }
   ],
   "source": [
    "# first input model\n",
    "# 如果改成全部指數化??\n",
    "# Compile model\n",
    "'''\n",
    "from CustomOPt import Custom\n",
    "import tensorflow.keras as keras\n",
    "opt = Custom(lr=0.001, beta_1=0.5, beta_2=0.999)\n",
    "\n",
    "# Inputs\n",
    "from keras.utils import plot_model\n",
    "from keras.models import Model\n",
    "from keras.layers import Input\n",
    "from keras.layers import Dense\n",
    "from keras.layers import Flatten\n",
    "from keras.layers import BatchNormalization\n",
    "from keras.layers.convolutional import Conv2D\n",
    "from keras.layers.pooling import MaxPooling2D\n",
    "from keras.layers.merge import concatenate\n",
    "from CustomConstraints import Custom_kernelinit\n",
    "import tensorflow as tf\n",
    "tf.compat.v1.enable_eager_execution()\n",
    "\n",
    "input_shape = X_train.shape[1]\n",
    "visible = Input(shape=(input_shape,))\n",
    "hidden = Dense(256, activation='sigmoid', kernel_constraint=keras.constraints.MinMaxNorm(min_value=0.01, max_value=1.0, rate=1.0, axis=0),\n",
    "               kernel_initializer='glorot_normal' , bias_initializer='normal' )(visible)\n",
    "hidden = Dropout(0.2)(hidden)\n",
    "hidden = BatchNormalization()(hidden)\n",
    "\n",
    "hidden = Dense(128, activation='sigmoid', kernel_constraint=keras.constraints.MinMaxNorm(min_value=0.01, max_value=1.0, rate=1.0, axis=0),\n",
    "               kernel_initializer='glorot_normal' , bias_initializer='normal' )(hidden)\n",
    "hidden = Dropout(0.2)(hidden)\n",
    "hidden = BatchNormalization()(hidden)\n",
    "\n",
    "output = Dense(1, activation='sigmoid')(hidden)\n",
    "\n",
    "model1 = Model(inputs=visible, outputs=output)\n",
    "'''\n",
    "# 爛的跟屎一樣"
   ]
  },
  {
   "cell_type": "code",
   "execution_count": 26,
   "metadata": {},
   "outputs": [
    {
     "name": "stdout",
     "output_type": "stream",
     "text": [
      "Epoch 1/50\n",
      "293/293 - 2s - loss: 0.6526 - accuracy: 0.6404 - val_loss: 0.5709 - val_accuracy: 0.7114\n",
      "Epoch 2/50\n",
      "293/293 - 1s - loss: 0.5248 - accuracy: 0.7346 - val_loss: 0.4712 - val_accuracy: 0.7837\n",
      "Epoch 3/50\n",
      "293/293 - 1s - loss: 0.4141 - accuracy: 0.8082 - val_loss: 0.3697 - val_accuracy: 0.8404\n",
      "Epoch 4/50\n",
      "293/293 - 1s - loss: 0.3221 - accuracy: 0.8600 - val_loss: 0.3121 - val_accuracy: 0.8705\n",
      "Epoch 5/50\n",
      "293/293 - 1s - loss: 0.2563 - accuracy: 0.8917 - val_loss: 0.2772 - val_accuracy: 0.8848\n",
      "Epoch 6/50\n",
      "293/293 - 1s - loss: 0.2114 - accuracy: 0.9130 - val_loss: 0.2463 - val_accuracy: 0.9024\n",
      "Epoch 7/50\n",
      "293/293 - 1s - loss: 0.1792 - accuracy: 0.9279 - val_loss: 0.2378 - val_accuracy: 0.9064\n",
      "Epoch 8/50\n",
      "293/293 - 1s - loss: 0.1563 - accuracy: 0.9372 - val_loss: 0.2222 - val_accuracy: 0.9171\n",
      "Epoch 9/50\n",
      "293/293 - 1s - loss: 0.1366 - accuracy: 0.9464 - val_loss: 0.2191 - val_accuracy: 0.9166\n",
      "Epoch 10/50\n",
      "293/293 - 1s - loss: 0.1281 - accuracy: 0.9497 - val_loss: 0.2186 - val_accuracy: 0.9189\n",
      "Epoch 11/50\n",
      "293/293 - 1s - loss: 0.1150 - accuracy: 0.9563 - val_loss: 0.2117 - val_accuracy: 0.9228\n",
      "Epoch 12/50\n",
      "293/293 - 1s - loss: 0.1037 - accuracy: 0.9590 - val_loss: 0.1887 - val_accuracy: 0.9357\n",
      "Epoch 13/50\n",
      "293/293 - 1s - loss: 0.1002 - accuracy: 0.9614 - val_loss: 0.1916 - val_accuracy: 0.9354\n",
      "Epoch 14/50\n",
      "293/293 - 1s - loss: 0.0942 - accuracy: 0.9637 - val_loss: 0.1976 - val_accuracy: 0.9310\n",
      "Epoch 15/50\n",
      "293/293 - 1s - loss: 0.0883 - accuracy: 0.9664 - val_loss: 0.2192 - val_accuracy: 0.9262\n",
      "Epoch 16/50\n",
      "293/293 - 2s - loss: 0.0826 - accuracy: 0.9692 - val_loss: 0.1938 - val_accuracy: 0.9337\n",
      "Epoch 17/50\n",
      "293/293 - 2s - loss: 0.0799 - accuracy: 0.9702 - val_loss: 0.2076 - val_accuracy: 0.9322\n",
      "Epoch 18/50\n",
      "293/293 - 2s - loss: 0.0764 - accuracy: 0.9712 - val_loss: 0.1784 - val_accuracy: 0.9417\n",
      "Epoch 19/50\n",
      "293/293 - 1s - loss: 0.0746 - accuracy: 0.9718 - val_loss: 0.2370 - val_accuracy: 0.9269\n",
      "Epoch 20/50\n",
      "293/293 - 1s - loss: 0.0708 - accuracy: 0.9731 - val_loss: 0.1954 - val_accuracy: 0.9357\n",
      "Epoch 21/50\n",
      "293/293 - 1s - loss: 0.0676 - accuracy: 0.9745 - val_loss: 0.2021 - val_accuracy: 0.9357\n",
      "Epoch 22/50\n",
      "293/293 - 1s - loss: 0.0679 - accuracy: 0.9749 - val_loss: 0.2037 - val_accuracy: 0.9346\n",
      "Epoch 23/50\n",
      "293/293 - 1s - loss: 0.0642 - accuracy: 0.9761 - val_loss: 0.2091 - val_accuracy: 0.9344\n",
      "Epoch 24/50\n",
      "293/293 - 1s - loss: 0.0621 - accuracy: 0.9770 - val_loss: 0.1955 - val_accuracy: 0.9371\n",
      "Epoch 25/50\n",
      "293/293 - 1s - loss: 0.0615 - accuracy: 0.9774 - val_loss: 0.1984 - val_accuracy: 0.9384\n",
      "Epoch 26/50\n",
      "293/293 - 1s - loss: 0.0603 - accuracy: 0.9773 - val_loss: 0.1629 - val_accuracy: 0.9489\n",
      "Epoch 27/50\n",
      "293/293 - 1s - loss: 0.0589 - accuracy: 0.9780 - val_loss: 0.2061 - val_accuracy: 0.9343\n",
      "Epoch 28/50\n",
      "293/293 - 1s - loss: 0.0569 - accuracy: 0.9792 - val_loss: 0.2071 - val_accuracy: 0.9352\n",
      "Epoch 29/50\n",
      "293/293 - 1s - loss: 0.0538 - accuracy: 0.9801 - val_loss: 0.1842 - val_accuracy: 0.9427\n",
      "Epoch 30/50\n",
      "293/293 - 1s - loss: 0.0509 - accuracy: 0.9811 - val_loss: 0.1891 - val_accuracy: 0.9423\n",
      "Epoch 31/50\n",
      "293/293 - 1s - loss: 0.0530 - accuracy: 0.9808 - val_loss: 0.1873 - val_accuracy: 0.9441\n",
      "Epoch 32/50\n",
      "293/293 - 1s - loss: 0.0502 - accuracy: 0.9809 - val_loss: 0.1991 - val_accuracy: 0.9424\n",
      "Epoch 33/50\n",
      "293/293 - 1s - loss: 0.0500 - accuracy: 0.9816 - val_loss: 0.2076 - val_accuracy: 0.9376\n",
      "Epoch 34/50\n",
      "293/293 - 1s - loss: 0.0503 - accuracy: 0.9818 - val_loss: 0.1979 - val_accuracy: 0.9423\n",
      "Epoch 35/50\n",
      "293/293 - 1s - loss: 0.0504 - accuracy: 0.9816 - val_loss: 0.2020 - val_accuracy: 0.9385\n",
      "Epoch 36/50\n",
      "293/293 - 1s - loss: 0.0492 - accuracy: 0.9816 - val_loss: 0.2195 - val_accuracy: 0.9365\n",
      "Epoch 37/50\n",
      "293/293 - 1s - loss: 0.0472 - accuracy: 0.9823 - val_loss: 0.1663 - val_accuracy: 0.9479\n",
      "Epoch 38/50\n",
      "293/293 - 1s - loss: 0.0442 - accuracy: 0.9837 - val_loss: 0.2017 - val_accuracy: 0.9405\n",
      "Epoch 39/50\n",
      "293/293 - 1s - loss: 0.0469 - accuracy: 0.9825 - val_loss: 0.1953 - val_accuracy: 0.9415\n",
      "Epoch 40/50\n",
      "293/293 - 1s - loss: 0.0455 - accuracy: 0.9834 - val_loss: 0.1966 - val_accuracy: 0.9435\n",
      "Epoch 41/50\n",
      "293/293 - 1s - loss: 0.0430 - accuracy: 0.9839 - val_loss: 0.1949 - val_accuracy: 0.9418\n",
      "Epoch 42/50\n",
      "293/293 - 1s - loss: 0.0436 - accuracy: 0.9840 - val_loss: 0.1737 - val_accuracy: 0.9485\n",
      "Epoch 43/50\n",
      "293/293 - 1s - loss: 0.0446 - accuracy: 0.9832 - val_loss: 0.2154 - val_accuracy: 0.9382\n",
      "Epoch 44/50\n",
      "293/293 - 1s - loss: 0.0433 - accuracy: 0.9838 - val_loss: 0.2040 - val_accuracy: 0.9394\n",
      "Epoch 45/50\n",
      "293/293 - 2s - loss: 0.0416 - accuracy: 0.9847 - val_loss: 0.1882 - val_accuracy: 0.9464\n",
      "Epoch 46/50\n",
      "293/293 - 2s - loss: 0.0411 - accuracy: 0.9850 - val_loss: 0.2035 - val_accuracy: 0.9411\n",
      "Epoch 47/50\n",
      "293/293 - 1s - loss: 0.0425 - accuracy: 0.9846 - val_loss: 0.1869 - val_accuracy: 0.9448\n",
      "Epoch 48/50\n",
      "293/293 - 1s - loss: 0.0419 - accuracy: 0.9848 - val_loss: 0.1818 - val_accuracy: 0.9470\n",
      "Epoch 49/50\n",
      "293/293 - 1s - loss: 0.0400 - accuracy: 0.9855 - val_loss: 0.1877 - val_accuracy: 0.9479\n",
      "Epoch 50/50\n",
      "293/293 - 1s - loss: 0.0366 - accuracy: 0.9866 - val_loss: 0.1833 - val_accuracy: 0.9480\n",
      "dict_keys(['loss', 'accuracy', 'val_loss', 'val_accuracy'])\n"
     ]
    }
   ],
   "source": [
    "# Compile model 1 \n",
    "from CustomOPt import Custom\n",
    "#opt = Custom(lr=0.01, beta_1=0.2, beta_2=0.8)\n",
    "\n",
    "model1.compile(loss='binary_crossentropy', optimizer = 'Adam' , metrics=['accuracy'])\n",
    "# Fit the model\n",
    "history1 = model1.fit(X_train, Y_train, validation_split=0.2, epochs=50, batch_size=256, verbose=2,shuffle=True) # list all data in history\n",
    "# verbose：日志展示，整数 0 :为不在标准输出流输出日志信息 1 :显示进度条 2 :每个epoch输出一行记录\n",
    "\n",
    "print(history1.history.keys())"
   ]
  },
  {
   "cell_type": "code",
   "execution_count": 27,
   "metadata": {},
   "outputs": [
    {
     "data": {
      "image/png": "[encoded data removed]",
      "text/plain": [
       "<Figure size 432x288 with 1 Axes>"
      ]
     },
     "metadata": {
      "needs_background": "light"
     },
     "output_type": "display_data"
    },
    {
     "data": {
      "image/png": "[encoded data removed]",
      "text/plain": [
       "<Figure size 432x288 with 1 Axes>"
      ]
     },
     "metadata": {
      "needs_background": "light"
     },
     "output_type": "display_data"
    }
   ],
   "source": [
    "# summarize history for accuracy\n",
    "plt.plot(history1.history['accuracy'])\n",
    "plt.plot(history1.history['val_accuracy'])\n",
    "plt.title('model accuracy')\n",
    "plt.ylabel('accuracy')\n",
    "plt.xlabel('epoch')\n",
    "plt.legend(['train', 'val'], loc='upper left') \n",
    "plt.show()\n",
    "# summarize history for loss \n",
    "plt.plot(history1.history['loss']) \n",
    "plt.plot(history1.history['val_loss']) \n",
    "plt.title('model loss')\n",
    "plt.ylabel('loss')\n",
    "plt.xlabel('epoch')\n",
    "plt.legend(['train', 'val'], loc='upper left') \n",
    "plt.show()"
   ]
  },
  {
   "attachments": {},
   "cell_type": "markdown",
   "metadata": {},
   "source": [
    "## Model1 Performance"
   ]
  },
  {
   "cell_type": "code",
   "execution_count": 28,
   "metadata": {},
   "outputs": [
    {
     "name": "stdout",
     "output_type": "stream",
     "text": [
      "val中(N,true,1)評論數: 11609\n",
      "val中(Y,fake,0)評論數: 11794\n",
      "TP reviews: 10412\n",
      "FP reviews: 75\n",
      "TN reviews: 11719\n",
      "FN reviews: 1197\n",
      "Accuracy:  0.9456479938469426\n",
      "Precison:  0.9928482883570134\n",
      "Recall:  0.8968903436988543\n",
      "F1-measure:  0.94243301955105\n"
     ]
    }
   ],
   "source": [
    "# val 分類比例\n",
    "c = 0\n",
    "d = 0\n",
    "for i in Y_test:\n",
    "    if (i==1) :\n",
    "        c =c+1\n",
    "    if (i==0) :\n",
    "        d =d+1\n",
    "print(\"val中(N,true,1)評論數:\",c)\n",
    "print(\"val中(Y,fake,0)評論數:\",d)\n",
    "\n",
    "y_pred = model1.predict(X_test) # Y predict\n",
    "y_pred_original = y_pred\n",
    "y_pred[y_pred <= 0.5] = 0\n",
    "y_pred[y_pred > 0.5] = 1\n",
    "\n",
    "TP = 0\n",
    "FP = 0\n",
    "TN = 0\n",
    "FN = 0\n",
    "\n",
    "for i in range(len(y_pred)): \n",
    "    if Y_test[i]==y_pred[i]==1:\n",
    "        TP += 1\n",
    "    if y_pred[i]==1 and Y_test[i]!=y_pred[i]:\n",
    "        FP += 1\n",
    "    if Y_test[i]==y_pred[i]==0:\n",
    "        TN += 1\n",
    "    if y_pred[i]==0 and Y_test[i]!=y_pred[i]:\n",
    "        FN += 1\n",
    "        \n",
    "print(\"TP reviews:\",TP)\n",
    "print(\"FP reviews:\",FP)\n",
    "print(\"TN reviews:\",TN)\n",
    "print(\"FN reviews:\",FN)\n",
    "\n",
    "Acc = (TP+TN)/(TP+ FN+FP+TN)\n",
    "Pre = (TP)/(TP+FP)\n",
    "Recall = TP / (TP+FN)\n",
    "F1 = 2*((Recall*Pre)/(Recall+Pre))\n",
    "TPR = TP / (TP+FN)\n",
    "FPR = FP / (FP+TN)\n",
    "\n",
    "print(\"Accuracy: \", Acc)\n",
    "print(\"Precison: \", Pre)\n",
    "print(\"Recall: \", Recall)\n",
    "print(\"F1-measure: \", F1)"
   ]
  },
  {
   "cell_type": "code",
   "execution_count": 29,
   "metadata": {},
   "outputs": [
    {
     "name": "stdout",
     "output_type": "stream",
     "text": [
      "AUC:  0.9452655890106956\n"
     ]
    },
    {
     "data": {
      "text/plain": [
       "<Figure size 432x288 with 0 Axes>"
      ]
     },
     "metadata": {},
     "output_type": "display_data"
    },
    {
     "data": {
      "image/png": "[encoded data removed]",
      "text/plain": [
       "<Figure size 720x720 with 1 Axes>"
      ]
     },
     "metadata": {
      "needs_background": "light"
     },
     "output_type": "display_data"
    }
   ],
   "source": [
    "from sklearn.metrics import roc_curve, auc  ###計算roc和auc\n",
    "\n",
    "fpr,tpr,threshold = roc_curve(Y_test, y_pred) ###計算真正率和假正率\n",
    "roc_auc = auc(fpr,tpr) ###計算auc的值\n",
    "plt.figure()\n",
    "lw = 2\n",
    "plt.figure(figsize=(10,10))\n",
    "plt.plot(fpr, tpr, color='darkorange',\n",
    "lw=lw, label='ROC curve (area = %0.2f)' % roc_auc) ###假正率為橫座標，真正率為縱座標做曲線\n",
    "plt.plot([0, 1], [0, 1], color='navy', lw=lw, linestyle='--')\n",
    "plt.xlim([0.0, 1.0])\n",
    "plt.ylim([0.0, 1.05])\n",
    "plt.xlabel('False Positive Rate')\n",
    "plt.ylabel('True Positive Rate')\n",
    "plt.title('Receiver operating characteristic example')\n",
    "plt.legend(loc=\"lower right\")\n",
    "print(\"AUC: \",roc_auc)\n",
    "plt.show()"
   ]
  },
  {
   "cell_type": "code",
   "execution_count": 30,
   "metadata": {},
   "outputs": [
    {
     "name": "stdout",
     "output_type": "stream",
     "text": [
      "23403\n"
     ]
    }
   ],
   "source": [
    "# 將 X_test 分成 mono的feature和anti的feature 並加總 變成一個 (n,2)的shape\n",
    "import math\n",
    "X_test_mono = X_test[:,0:X_mono.shape[1]]\n",
    "X_test_anti = X_test[:,X_mono.shape[1]:X_mono.shape[1]+X_anti.shape[1]]\n",
    "#X_test_nm = X_test[:,X_mono.shape[1]+X_anti.shape[1]:]\n",
    "\n",
    "X_test_sum = []\n",
    "aaa =[]\n",
    "for review in range(len(X_test)):\n",
    "    sum_mono = np.sum(X_test_mono, axis=1)[review]\n",
    "    sum_anti = np.sum(X_test_anti, axis=1)[review]\n",
    "    #sum_nm = np.sum(X_test_nm, axis=1)[review]\n",
    "    aaa.append(sum_mono)\n",
    "    aaa.append(sum_anti)\n",
    "    #aaa.append(sum_nm)\n",
    "    X_test_sum.append(aaa)\n",
    "    aaa = []\n",
    "    \n",
    "print(len(X_test_sum))"
   ]
  },
  {
   "cell_type": "code",
   "execution_count": 31,
   "metadata": {},
   "outputs": [
    {
     "name": "stdout",
     "output_type": "stream",
     "text": [
      "201466595\n",
      "234162845\n",
      "217814720.0\n"
     ]
    }
   ],
   "source": [
    "# FMR = FM / P\n",
    "# 分別對 X_test 和 X_test_nm 檢查 X1~Xn 的不違反單調性的pair數 以及全部數\n",
    "import math\n",
    "length = len(X_test) ## 這裡應該對Xmono+Xnm吧? 好像不是 只需mono和anti\n",
    "FM = []\n",
    "# 先對mono\n",
    "all_num_mono = 0 # 越大 越fake(y越小)\n",
    "all_num_anti = 0 # 越大 越true(y越大)\n",
    "for i in range(0, length): # 兩兩相比\n",
    "    for j in range(i+1, length):\n",
    "        if X_test_sum[i][0] >= X_test_sum[j][0]:\n",
    "            if y_pred_original[i] <= y_pred_original[j]:\n",
    "                all_num_mono = all_num_mono + 1\n",
    "        else:\n",
    "            if y_pred_original[i] >= y_pred_original[j]:\n",
    "                all_num_mono = all_num_mono + 1\n",
    "# 再對anti\n",
    "for i in range(0, length): # 兩兩相比\n",
    "    for j in range(i+1, length):\n",
    "        if X_test_sum[i][1] >= X_test_sum[j][1]:\n",
    "            if y_pred_original[i] >= y_pred_original[j]:\n",
    "                all_num_anti = all_num_anti + 1\n",
    "        else:\n",
    "            if y_pred_original[i] <= y_pred_original[j]:\n",
    "                all_num_anti = all_num_anti + 1\n",
    "\n",
    "FM = (all_num_mono + all_num_anti)/2\n",
    "print(all_num_mono)\n",
    "print(all_num_anti)\n",
    "print(FM)"
   ]
  },
  {
   "cell_type": "code",
   "execution_count": 32,
   "metadata": {},
   "outputs": [
    {
     "data": {
      "text/plain": [
       "0.7954130540948802"
      ]
     },
     "execution_count": 32,
     "metadata": {},
     "output_type": "execute_result"
    }
   ],
   "source": [
    "n = length\n",
    "m = 2\n",
    "P = math.factorial(n)//(math.factorial(m)*math.factorial(n-m))\n",
    "FMR = FM/P\n",
    "FMR"
   ]
  },
  {
   "cell_type": "code",
   "execution_count": 33,
   "metadata": {},
   "outputs": [
    {
     "data": {
      "text/plain": [
       "array([[1.],\n",
       "       [0.],\n",
       "       [1.],\n",
       "       ...,\n",
       "       [1.],\n",
       "       [1.],\n",
       "       [1.]], dtype=float32)"
      ]
     },
     "execution_count": 33,
     "metadata": {},
     "output_type": "execute_result"
    }
   ],
   "source": [
    "import numpy as np\n",
    "#np.set_printoptions(threshold=np.inf)\n",
    "np.set_printoptions(threshold=20)\n",
    "y_pred_original"
   ]
  },
  {
   "cell_type": "code",
   "execution_count": 34,
   "metadata": {},
   "outputs": [
    {
     "data": {
      "text/plain": [
       "'\\n# teacher_FMR\\n# FMR = FM / P\\n# 對 全部feature 檢查 X1~Xn 是否全部都不違反單調性 \\nimport math\\nlength = len(X_test) ## 這裡應該對Xmono+Xnm吧? 好像不是 只需mono和anti\\nteacher_FM = 0\\nteacher_P = 0\\n\\n# 暫時無法排除完全相等的情況，會導致P重複算到\\n\\nfor i in range(0, length): # 兩兩相比\\n    for j in range(i+1, length):\\n        if X_test_mono[i][0] >= X_test_mono[j][0]: # 先比第一個feature\\n            for feature in range(1, y_pred_original.shape[1]):\\n                if X_test_mono[i][feature] < X_test_mono[j][feature]:\\n                    break\\n                if feature == y_pred_original.shape[1]: # 如果沒有break 來到最後\\n                    teacher_P = teacher_P + 1\\n                    if y_pred_original[i] >= y_pred_original[j]:\\n                        teacher_FM = teacher_FM + 1\\n\\n        if X_test_mono[i][0] <= X_test_mono[j][0]:\\n            for feature in range(1, y_pred_original.shape[1]):\\n                if X_test_mono[i][feature] > X_test_mono[j][feature]:\\n                    break\\n                if feature == y_pred_original.shape[1]: # 如果沒有break 來到最後\\n                    teacher_P = teacher_P + 1\\n                    if y_pred_original[i] <= y_pred_original[j]:\\n                        teacher_FM = teacher_FM + 1\\n            \\nteacher_FMR = teacher_FM / teacher_P\\nprint(teacher_FM)\\nprint(teacher_P)\\nprint(teacher_FMR)\\n'"
      ]
     },
     "execution_count": 34,
     "metadata": {},
     "output_type": "execute_result"
    }
   ],
   "source": [
    "# 全部都是0\n",
    "'''\n",
    "# teacher_FMR\n",
    "# FMR = FM / P\n",
    "# 對 全部feature 檢查 X1~Xn 是否全部都不違反單調性 \n",
    "import math\n",
    "length = len(X_test) ## 這裡應該對Xmono+Xnm吧? 好像不是 只需mono和anti\n",
    "teacher_FM = 0\n",
    "teacher_P = 0\n",
    "\n",
    "# 暫時無法排除完全相等的情況，會導致P重複算到\n",
    "\n",
    "for i in range(0, length): # 兩兩相比\n",
    "    for j in range(i+1, length):\n",
    "        if X_test_mono[i][0] >= X_test_mono[j][0]: # 先比第一個feature\n",
    "            for feature in range(1, y_pred_original.shape[1]):\n",
    "                if X_test_mono[i][feature] < X_test_mono[j][feature]:\n",
    "                    break\n",
    "                if feature == y_pred_original.shape[1]: # 如果沒有break 來到最後\n",
    "                    teacher_P = teacher_P + 1\n",
    "                    if y_pred_original[i] >= y_pred_original[j]:\n",
    "                        teacher_FM = teacher_FM + 1\n",
    "\n",
    "        if X_test_mono[i][0] <= X_test_mono[j][0]:\n",
    "            for feature in range(1, y_pred_original.shape[1]):\n",
    "                if X_test_mono[i][feature] > X_test_mono[j][feature]:\n",
    "                    break\n",
    "                if feature == y_pred_original.shape[1]: # 如果沒有break 來到最後\n",
    "                    teacher_P = teacher_P + 1\n",
    "                    if y_pred_original[i] <= y_pred_original[j]:\n",
    "                        teacher_FM = teacher_FM + 1\n",
    "            \n",
    "teacher_FMR = teacher_FM / teacher_P\n",
    "print(teacher_FM)\n",
    "print(teacher_P)\n",
    "print(teacher_FMR)\n",
    "'''"
   ]
  }
 ],
 "metadata": {
  "kernelspec": {
   "display_name": "base",
   "language": "python",
   "name": "python3"
  },
  "language_info": {
   "codemirror_mode": {
    "name": "ipython",
    "version": 3
   },
   "file_extension": ".py",
   "mimetype": "text/x-python",
   "name": "python",
   "nbconvert_exporter": "python",
   "pygments_lexer": "ipython3",
   "version": "3.8.8"
  },
  "orig_nbformat": 4,
  "vscode": {
   "interpreter": {
    "hash": "e7614d358043c49eef44408215e19be08fa4fc72f48c19f3b4eb69cd8bef8801"
   }
  }
 },
 "nbformat": 4,
 "nbformat_minor": 2
}
